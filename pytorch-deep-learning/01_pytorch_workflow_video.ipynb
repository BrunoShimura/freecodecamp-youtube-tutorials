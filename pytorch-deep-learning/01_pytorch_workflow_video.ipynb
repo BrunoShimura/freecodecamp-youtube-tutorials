{
  "nbformat": 4,
  "nbformat_minor": 0,
  "metadata": {
    "colab": {
      "provenance": []
    },
    "kernelspec": {
      "name": "python3",
      "display_name": "Python 3"
    },
    "language_info": {
      "name": "python"
    }
  },
  "cells": [
    {
      "cell_type": "markdown",
      "source": [
        "# PyTorch Workflow\n",
        "\n",
        "Let's explore a an example PyTorch end-to-end workflow.\n",
        "\n",
        "Resources:\n",
        "* Ground truth notebook - https://github.com\n",
        "* Book version of notebook - https://www.learnpytorch.io\n",
        "* Ask a question - https://github.com"
      ],
      "metadata": {
        "id": "LnAj5Gv9vYia"
      }
    },
    {
      "cell_type": "code",
      "execution_count": 1,
      "metadata": {
        "colab": {
          "base_uri": "https://localhost:8080/"
        },
        "id": "5a8ptpTPvH_5",
        "outputId": "62a8c038-40da-4b35-ea3c-d55e80685247"
      },
      "outputs": [
        {
          "output_type": "execute_result",
          "data": {
            "text/plain": [
              "{1: 'data (prepare and load)',\n",
              " 2: 'build model',\n",
              " 3: 'fitting the model to data (training)',\n",
              " 4: 'making predictions and evaluting a model (infrerence)',\n",
              " 5: 'saving and loading a model',\n",
              " 6: 'puttig it all together'}"
            ]
          },
          "metadata": {},
          "execution_count": 1
        }
      ],
      "source": [
        "what_were_covering = {1: \"data (prepare and load)\",\n",
        "                      2: \"build model\",\n",
        "                      3: \"fitting the model to data (training)\",\n",
        "                      4: \"making predictions and evaluting a model (infrerence)\",\n",
        "                      5: \"saving and loading a model\",\n",
        "                      6: \"puttig it all together\"}\n",
        "what_were_covering"
      ]
    },
    {
      "cell_type": "code",
      "source": [
        "import torch\n",
        "from torch import nn # nn contins all of PyTorch's building blocks for neural networks "
      ],
      "metadata": {
        "id": "AAoRMjUVw5dz"
      },
      "execution_count": 2,
      "outputs": []
    },
    {
      "cell_type": "code",
      "source": [],
      "metadata": {
        "id": "-MtXnqjOxYzm"
      },
      "execution_count": null,
      "outputs": []
    }
  ]
}